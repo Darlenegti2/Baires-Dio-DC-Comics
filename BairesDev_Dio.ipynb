{
  "nbformat": 4,
  "nbformat_minor": 0,
  "metadata": {
    "colab": {
      "provenance": [],
      "authorship_tag": "ABX9TyMRDnZ9XJJdSS2q9hXa2W34",
      "include_colab_link": true
    },
    "kernelspec": {
      "name": "python3",
      "display_name": "Python 3"
    },
    "language_info": {
      "name": "python"
    }
  },
  "cells": [
    {
      "cell_type": "markdown",
      "metadata": {
        "id": "view-in-github",
        "colab_type": "text"
      },
      "source": [
        "<a href=\"https://colab.research.google.com/github/Darlenegti2/Baires-Dio-DC-Comics/blob/main/BairesDev_Dio.ipynb\" target=\"_parent\"><img src=\"https://colab.research.google.com/assets/colab-badge.svg\" alt=\"Open In Colab\"/></a>"
      ]
    },
    {
      "cell_type": "code",
      "execution_count": 6,
      "metadata": {
        "colab": {
          "base_uri": "https://localhost:8080/"
        },
        "id": "nxElXJPuLVIN",
        "outputId": "ab257bb6-50af-43e9-e190-fb7a132fc234"
      },
      "outputs": [
        {
          "output_type": "stream",
          "name": "stdout",
          "text": [
            "fatal: destination path 'BairesDev-DIO' already exists and is not an empty directory.\n"
          ]
        }
      ],
      "source": [
        "!git clone https://github.com/fenads/BairesDev-DIO.git\n",
        "\n"
      ]
    },
    {
      "cell_type": "code",
      "source": [
        "%matplotlib inline\n",
        "\n",
        "import os\n",
        "import random\n",
        "import numpy as np\n",
        "import keras\n",
        "import tensorflow as tf\n",
        "import matplotlib.pyplot as plt\n",
        "\n",
        "\n",
        "from matplotlib.pyplot import imshow\n",
        "from keras.preprocessing import image\n",
        "from keras.applications.imagenet_utils import preprocess_input\n",
        "from keras.models import Sequential\n",
        "from keras.layers import Dense, Dropout, Flatten, Activation\n",
        "from keras.layers import Conv2D, MaxPooling2D\n",
        "from keras.models import Model\n"
      ],
      "metadata": {
        "id": "EkQ4DK4uLjFr"
      },
      "execution_count": 7,
      "outputs": []
    },
    {
      "cell_type": "code",
      "source": [
        "import tensorflow as tf\n",
        "\n",
        "def validate_image(file_path):\n",
        "    try:\n",
        "        img = tf.io.read_file(file_path)\n",
        "        img = tf.image.decode_image(img, channels=3)\n",
        "        return True\n",
        "    except:\n",
        "        return False\n",
        "\n",
        "dataset_path ='/content/BairesDev-DIO/Dataset-DC-Comics/'\n",
        "valid_files = []\n",
        "\n",
        "for root, dirs, files in os.walk(dataset_path):\n",
        "    for file in files:\n",
        "        file_path = os.path.join(root, file)\n",
        "        if file.lower().endswith(('.jpg', '.jpeg', '.png', '.gif', '.bmp')) and validate_image(file_path):\n",
        "            valid_files.append(file_path)\n",
        "        else:\n",
        "            print(f\"Arquivo inválido: {file_path}\")\n"
      ],
      "metadata": {
        "id": "a0JddPMkLt8N"
      },
      "execution_count": 11,
      "outputs": []
    },
    {
      "cell_type": "code",
      "source": [
        "root = '/content/BairesDev-DIO/Dataset-DC-Comics/'\n",
        "exclude = ['BACKGROUND_Google', 'Motorbikes', 'airplanes', 'Faces_easy', 'Faces']\n",
        "\n",
        "\n",
        "train_split, val_split = 0.9, 0.20\n",
        "\n",
        "\n",
        "categories = [x[0] for x in os.walk(root) if x[0]][1:]\n",
        "categories = [c for c in categories if c not in [os.path.join(root, e) for e in exclude]]\n",
        "\n",
        "\n",
        "print(categories)\n"
      ],
      "metadata": {
        "colab": {
          "base_uri": "https://localhost:8080/"
        },
        "id": "7_Ll687Kb9cE",
        "outputId": "c69b4c94-4088-44cf-96c6-cac4602cfdc4"
      },
      "execution_count": 12,
      "outputs": [
        {
          "output_type": "stream",
          "name": "stdout",
          "text": [
            "['/content/BairesDev-DIO/Dataset-DC-Comics/Batman', '/content/BairesDev-DIO/Dataset-DC-Comics/Batman/.ipynb_checkpoints', '/content/BairesDev-DIO/Dataset-DC-Comics/.ipynb_checkpoints', '/content/BairesDev-DIO/Dataset-DC-Comics/Coringa', '/content/BairesDev-DIO/Dataset-DC-Comics/Coringa/.ipynb_checkpoints']\n"
          ]
        }
      ]
    }
  ]
}